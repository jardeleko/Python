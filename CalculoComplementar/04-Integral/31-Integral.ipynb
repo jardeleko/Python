{
 "cells": [
  {
   "cell_type": "markdown",
   "metadata": {},
   "source": [
    "# Integral Definida\n",
    "\n",
    " <img src='IntegralDefinida.png' /></a>"
   ]
  },
  {
   "cell_type": "markdown",
   "metadata": {},
   "source": [
    "## Área Abaixo da Curva"
   ]
  },
  {
   "cell_type": "code",
   "execution_count": 2,
   "metadata": {},
   "outputs": [],
   "source": [
    "import numpy as np\n",
    "import pylab as plt"
   ]
  },
  {
   "cell_type": "code",
   "execution_count": 3,
   "metadata": {},
   "outputs": [],
   "source": [
    "x=np.linspace(0,10,21)\n",
    "y=x**2-5*x+6"
   ]
  },
  {
   "cell_type": "markdown",
   "metadata": {},
   "source": [
    "# Ordem de aproximação\n",
    "## Regras de Newton-Cotes\n",
    "\n",
    "As regras abaixo são conhecidas como Fórmulas de Newton-Cotes, há dois tipos delas as abertas e as fechadas. A regra do ponto médio é uma fórmula de Newton-Cotes aberta. A regra trapezoidal e de Simpson são exemplos de uma categoria de métodos conhecida como fórmulas de Newton-Cotes fechada. A fórmula de Newton-Cotes é chamada fechada quando o conjunto de seus pontos incluem os extremos do intervalo de integração.\n",
    "\n",
    " <img src='Newton-Cotes.png'>\n",
    "\n",
    " <img src='Newton-Cotes1.png'>\n",
    "\n",
    " "
   ]
  },
  {
   "cell_type": "markdown",
   "metadata": {},
   "source": [
    "### Exemplo: Método Trapezoidal"
   ]
  },
  {
   "cell_type": "code",
   "execution_count": 5,
   "metadata": {},
   "outputs": [
    {
     "name": "stdout",
     "output_type": "stream",
     "text": [
      "143.333335\n"
     ]
    }
   ],
   "source": [
    "def y(x):                #Função a ser integrada\n",
    "    return x**2-5*x+6\n",
    "\n",
    "N = 10000                    #número de pontos\n",
    "a=0.0                     #ponto inicial\n",
    "b=10.0                    #ponto final \n",
    "h=(b-a)/N                 #intervalo infinitesimal  \n",
    "\n",
    "constante = 0.5*(y(a)+y(b))\n",
    "soma=0\n",
    "for k in range(1,N):\n",
    "    soma +=y(a+k*h)\n",
    "\n",
    "I = h*(constante+soma)\n",
    "\n",
    "print (I)"
   ]
  },
  {
   "cell_type": "markdown",
   "metadata": {},
   "source": [
    "### Tarefa 1 - Implementar usando o método np.trapz()"
   ]
  },
  {
   "cell_type": "code",
   "execution_count": 6,
   "metadata": {},
   "outputs": [
    {
     "name": "stdout",
     "output_type": "stream",
     "text": [
      "143.31900166683334\n"
     ]
    }
   ],
   "source": [
    "x = np.linspace(0, 10, 10000)\n",
    "y = x**2-5*x+6\n",
    "N = 10000\n",
    "a = 0.0\n",
    "b = 10.0\n",
    "h = ((b-a)/N)\n",
    "result = np.trapz(y, dx=h)\n",
    "print(result)"
   ]
  },
  {
   "cell_type": "markdown",
   "metadata": {},
   "source": [
    "### Tarefa 2 - Queda Livre\n",
    "Um corpo é abandonado de certa altura e atinge o solo após um determinado tempo. Utilize o arquivo \"Queda_livre.csv\", que apresenta a aceleração resultante do corpo em função do tempo de queda, e calcule o valor final da velocidade atingida pelo corpo.\n",
    "\n",
    "#### Calcule o valor final da velocidade atingida pelo corpo."
   ]
  },
  {
   "cell_type": "code",
   "execution_count": 14,
   "metadata": {},
   "outputs": [
    {
     "name": "stdout",
     "output_type": "stream",
     "text": [
      "6616.544593139666\n"
     ]
    }
   ],
   "source": [
    "import csv\n",
    "\n",
    "import numpy as np\n",
    "import pylab as plt\n",
    "\n",
    "# tempo, aceleracao\n",
    "\n",
    "Data = []\n",
    "\n",
    "with open('Queda-livre.csv','r') as entrada:\n",
    "    ler = csv.reader(entrada)\n",
    "    next(ler)\n",
    "\n",
    "    for linha in ler:\n",
    "        for i in range(len(linha)):\n",
    "            linha[i] = float(linha[i])\n",
    "        Data.append(linha)\n",
    "\n",
    "\n",
    "\n",
    "tempo = []\n",
    "aceleracao = []\n",
    "\n",
    "for i in Data:\n",
    "\n",
    "    t, a = i\n",
    "    tempo.append(t)\n",
    "    aceleracao.append(a)\n",
    "\n",
    "N = len(tempo)\n",
    "a = tempo[0]\n",
    "b = tempo[N-1]\n",
    "h = (b-a)/N\n",
    "\n",
    "\n",
    "velocidade = np.empty(N)\n",
    "velocidade[0] = 0\n",
    "\n",
    "for k in range(1,N):\n",
    "    velocidade[k] = velocidade[k-1]+(aceleracao[k-1]+aceleracao[k])*(h/2)\n",
    "\n",
    "print(velocidade[k])"
   ]
  },
  {
   "cell_type": "markdown",
   "metadata": {},
   "source": [
    "### Tarefa 3 - Distância percorrida\n",
    "\n",
    "Escrever um programa em Python que lê o arquivo **velocities.txt**, e usando a regra trapezoidal, calcula a distância percorrida pela partícula no eixo x como função do tempo e plote, no mesmo gráfico da velocidade em função do tempo, a distância percorrida. Mais informações: http://www-personal.umich.edu/~mejn/computational-physics/\n",
    "\n",
    "Conjunto de dados que contém duas colunas numéricas, onde na primeira está o tempo, em segundos, e na segunda a velocidade no eixo x, em metros por segundos, de uma partícula.\n",
    "\n",
    " <img src='Figure-1.png' /></a>"
   ]
  },
  {
   "cell_type": "markdown",
   "metadata": {},
   "source": [
    "### Usando o Numpy - Regra Trapezoidal\n",
    "\n",
    "\n"
   ]
  },
  {
   "cell_type": "code",
   "execution_count": null,
   "metadata": {},
   "outputs": [],
   "source": [
    "import numpy as np\n",
    "\n",
    "tempo,velocidade = np.loadtxt('velocities.txt',unpack=True)\n",
    "\n",
    "N = len(tempo)\n",
    "a = tempo[0]\n",
    "b = tempo[N-1]\n",
    "h = (b-a)/N\n",
    "\n",
    "#USANDO NUMPY\n",
    "distancia2=np.trapz(velocidade,dx=h)\n",
    "print(distancia2)"
   ]
  },
  {
   "cell_type": "markdown",
   "metadata": {},
   "source": [
    "### Usando o Scipy - Regra de Simpson"
   ]
  },
  {
   "cell_type": "code",
   "execution_count": null,
   "metadata": {},
   "outputs": [],
   "source": [
    "from scipy import integrate\n",
    "import numpy as np\n",
    "\n",
    "x = np.linspace(0,10,11)\n",
    "y=x**2-5*x+6\n",
    "\n",
    "N = 10\n",
    "a = tempo[0]\n",
    "b = 10\n",
    "h = (b-a)/N\n",
    "\n",
    "I2 = integrate.simps(y,dx=h) \n",
    "\n",
    "print(I2)"
   ]
  },
  {
   "cell_type": "markdown",
   "metadata": {},
   "source": [
    "### Usando o Scipy - INTEGRAL DUPLA"
   ]
  },
  {
   "cell_type": "code",
   "execution_count": null,
   "metadata": {},
   "outputs": [],
   "source": []
  }
 ],
 "metadata": {
  "kernelspec": {
   "display_name": "Python 2",
   "language": "python",
   "name": "python2"
  },
  "language_info": {
   "codemirror_mode": {
    "name": "ipython",
    "version": 2
   },
   "file_extension": ".py",
   "mimetype": "text/x-python",
   "name": "python",
   "nbconvert_exporter": "python",
   "pygments_lexer": "ipython2",
   "version": "2.7.16"
  }
 },
 "nbformat": 4,
 "nbformat_minor": 2
}
