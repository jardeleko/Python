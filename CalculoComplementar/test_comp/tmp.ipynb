{
 "cells": [
  {
   "cell_type": "raw",
   "metadata": {},
   "source": [
    "Problema 01:\n",
    "Estima-se que a produção semanal de uma fábrica é dada pela função F(x, y)=1200x+500y+x²y-x³-y²...\n",
    "\n",
    "Onde: x é a variável referente aos operários especializados e y os operarios não especializados.\n",
    "A mão de obra é constituída por 30 operários especializados e 60 não especializados. Use a análise marginal para estimar a variação da produção se: +1 operário especializado for contratado e o número não especializado permanecer constante.\n",
    "\n",
    "\n",
    "Compreender o problema:\n",
    "\n",
    "Extrair os dados e elementos desconhecidos.\n",
    "\n",
    "Análise marginal -> Em economia refere-se ao uso de uma derivada para estimar a variação do valor de uma fumção em consequência de uma mudança no valor de uma das variáveis.\n",
    "\n",
    "Taxa de variação -> Calcular a função com uma das variáveis enquanto a outra permanece constante, o que conrresponde a derivar a função em relação a uma das variáveis mantendo fixa a outra variável. Este processo é conhecido como derivação parcial; a derivada resultante é chamada de derivada parcial da função.\n",
    "\n",
    "A fábrica possui operários especializados e não especializados para produção semanal em unidades.\n",
    "\n",
    "* A mão de obra disponível é constituída por 30 operários especializados.\n",
    "* 60 não especializados.\n",
    "\n",
    "O objetivo do problema é determinar a variação da produção se mais 1 operário especializado for contratado e o número de não especializado não for alterado, se mantendo constante.\n"
   ]
  },
  {
   "cell_type": "code",
   "execution_count": 3,
   "metadata": {},
   "outputs": [],
   "source": [
    "import numpy as np\n",
    "import sympy as sp\n",
    "from scipy import integrate\n"
   ]
  },
  {
   "cell_type": "code",
   "execution_count": 22,
   "metadata": {},
   "outputs": [
    {
     "name": "stdout",
     "output_type": "stream",
     "text": [
      "Analise:  2100\n",
      "taxa: 2069\n"
     ]
    }
   ],
   "source": [
    "x_symbol, y_symbol, z_symbol = sp.symbols('x, y, z')\n",
    "f = 1200*x_symbol+500*y_symbol + x_symbol**2*y_symbol - x_symbol**3 - y_symbol**2\n",
    "f_linha = sp.diff(f, x_symbol)\n",
    "\n",
    "z = lambda x, y: eval(str(f_linha))\n",
    "print \"Analise: \", z(30, 60)\n",
    "\n",
    "# taxa\n",
    "# \n",
    "# eval(str(f_linha)\n",
    "\n",
    "fx = lambda x, y: 1200*x+500*y + x**2*y - x**3 - y**2\n",
    "print 'taxa:', fx(30+1, 60)-fx(30, 60)\n",
    "\n"
   ]
  },
  {
   "cell_type": "code",
   "execution_count": 31,
   "metadata": {},
   "outputs": [
    {
     "name": "stdout",
     "output_type": "stream",
     "text": [
      "taxa: -7193600\n"
     ]
    }
   ],
   "source": [
    "#Problema 02\n",
    "\n",
    "f = -400*x_symbol**2+6800*x_symbol-12000\n",
    "f_linha = sp.diff(-(400*(x**2)) + (6800*x) - (12000), x)\n",
    "\n",
    "\n",
    "fx = lambda x: -400*x**2+6800*x-12000 \n",
    "print 'taxa:', fx(9001) - fx(9000)\n",
    "\n",
    "# Justificativa:\n",
    "# Aplicando a função e obetemos a representação da variação do lucro, aplicando as unidades informadas(9000)\n",
    "#produzidas na função, o resultado foi de -7193200, qual tem pouca diferença entre os lucros de produção com variação de 1 unidade.\n",
    "#logo, afirmamos que à acurácia esta aceitavel e que a produção com 9000 unidade torna prejuízos.\n",
    "\n"
   ]
  },
  {
   "cell_type": "code",
   "execution_count": 30,
   "metadata": {},
   "outputs": [
    {
     "name": "stdout",
     "output_type": "stream",
     "text": [
      "variancia em W:  0.0129613335555\n",
      "variancia em h:  0.00678236508676\n",
      "Se engordar 1 kg e mantem a altura: 0.0128497778547\n"
     ]
    }
   ],
   "source": [
    "#Problema 03\n",
    "\n",
    "fw = lambda w, h: (0.00306*w**(-0.575))*h**0.725\n",
    "fh = lambda w,h: 0.00522*w**0.425*h**(-0.275)\n",
    "\n",
    "print 'variancia em W: ', fw(50, 163)\n",
    "print 'variancia em h: ',fh(50, 163) \n",
    "\n",
    "f_line = lambda w, h: (0.0072*w**0.425)*(h**0.725)\n",
    "\n",
    "print 'Se engordar 1 kg e mantem a altura:', f_line(35,120) -f_line(34,120)\n"
   ]
  },
  {
   "cell_type": "code",
   "execution_count": null,
   "metadata": {},
   "outputs": [],
   "source": []
  }
 ],
 "metadata": {
  "kernelspec": {
   "display_name": "Python 2",
   "language": "python",
   "name": "python2"
  },
  "language_info": {
   "codemirror_mode": {
    "name": "ipython",
    "version": 2
   },
   "file_extension": ".py",
   "mimetype": "text/x-python",
   "name": "python",
   "nbconvert_exporter": "python",
   "pygments_lexer": "ipython2",
   "version": "2.7.16"
  }
 },
 "nbformat": 4,
 "nbformat_minor": 2
}
